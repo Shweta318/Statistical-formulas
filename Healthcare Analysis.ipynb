{
 "cells": [
  {
   "cell_type": "code",
   "execution_count": 1,
   "id": "0cff2a6d",
   "metadata": {},
   "outputs": [],
   "source": [
    "import pandas as pd\n",
    "import matplotlib.pyplot as plt\n",
    "import scipy.stats as stats\n",
    "import seaborn as sns"
   ]
  },
  {
   "cell_type": "code",
   "execution_count": 2,
   "id": "ba6accc0",
   "metadata": {},
   "outputs": [],
   "source": [
    "df=pd.read_csv(\"S:\\data\\Sales\\healthcare_dataset.csv\")"
   ]
  },
  {
   "cell_type": "code",
   "execution_count": 3,
   "id": "37f391e0",
   "metadata": {},
   "outputs": [
    {
     "data": {
      "text/html": [
       "<div>\n",
       "<style scoped>\n",
       "    .dataframe tbody tr th:only-of-type {\n",
       "        vertical-align: middle;\n",
       "    }\n",
       "\n",
       "    .dataframe tbody tr th {\n",
       "        vertical-align: top;\n",
       "    }\n",
       "\n",
       "    .dataframe thead th {\n",
       "        text-align: right;\n",
       "    }\n",
       "</style>\n",
       "<table border=\"1\" class=\"dataframe\">\n",
       "  <thead>\n",
       "    <tr style=\"text-align: right;\">\n",
       "      <th></th>\n",
       "      <th>Name</th>\n",
       "      <th>Age</th>\n",
       "      <th>Gender</th>\n",
       "      <th>Blood Type</th>\n",
       "      <th>Medical Condition</th>\n",
       "      <th>Date of Admission</th>\n",
       "      <th>Doctor</th>\n",
       "      <th>Hospital</th>\n",
       "      <th>Insurance Provider</th>\n",
       "      <th>Billing Amount</th>\n",
       "      <th>Room Number</th>\n",
       "      <th>Admission Type</th>\n",
       "      <th>Discharge Date</th>\n",
       "      <th>Medication</th>\n",
       "      <th>Test Results</th>\n",
       "    </tr>\n",
       "  </thead>\n",
       "  <tbody>\n",
       "    <tr>\n",
       "      <th>0</th>\n",
       "      <td>Tiffany Ramirez</td>\n",
       "      <td>81</td>\n",
       "      <td>Female</td>\n",
       "      <td>O-</td>\n",
       "      <td>Diabetes</td>\n",
       "      <td>2022-11-17</td>\n",
       "      <td>Patrick Parker</td>\n",
       "      <td>Wallace-Hamilton</td>\n",
       "      <td>Medicare</td>\n",
       "      <td>37490.983364</td>\n",
       "      <td>146</td>\n",
       "      <td>Elective</td>\n",
       "      <td>2022-12-01</td>\n",
       "      <td>Aspirin</td>\n",
       "      <td>Inconclusive</td>\n",
       "    </tr>\n",
       "    <tr>\n",
       "      <th>1</th>\n",
       "      <td>Ruben Burns</td>\n",
       "      <td>35</td>\n",
       "      <td>Male</td>\n",
       "      <td>O+</td>\n",
       "      <td>Asthma</td>\n",
       "      <td>2023-06-01</td>\n",
       "      <td>Diane Jackson</td>\n",
       "      <td>Burke, Griffin and Cooper</td>\n",
       "      <td>UnitedHealthcare</td>\n",
       "      <td>47304.064845</td>\n",
       "      <td>404</td>\n",
       "      <td>Emergency</td>\n",
       "      <td>2023-06-15</td>\n",
       "      <td>Lipitor</td>\n",
       "      <td>Normal</td>\n",
       "    </tr>\n",
       "    <tr>\n",
       "      <th>2</th>\n",
       "      <td>Chad Byrd</td>\n",
       "      <td>61</td>\n",
       "      <td>Male</td>\n",
       "      <td>B-</td>\n",
       "      <td>Obesity</td>\n",
       "      <td>2019-01-09</td>\n",
       "      <td>Paul Baker</td>\n",
       "      <td>Walton LLC</td>\n",
       "      <td>Medicare</td>\n",
       "      <td>36874.896997</td>\n",
       "      <td>292</td>\n",
       "      <td>Emergency</td>\n",
       "      <td>2019-02-08</td>\n",
       "      <td>Lipitor</td>\n",
       "      <td>Normal</td>\n",
       "    </tr>\n",
       "    <tr>\n",
       "      <th>3</th>\n",
       "      <td>Antonio Frederick</td>\n",
       "      <td>49</td>\n",
       "      <td>Male</td>\n",
       "      <td>B-</td>\n",
       "      <td>Asthma</td>\n",
       "      <td>2020-05-02</td>\n",
       "      <td>Brian Chandler</td>\n",
       "      <td>Garcia Ltd</td>\n",
       "      <td>Medicare</td>\n",
       "      <td>23303.322092</td>\n",
       "      <td>480</td>\n",
       "      <td>Urgent</td>\n",
       "      <td>2020-05-03</td>\n",
       "      <td>Penicillin</td>\n",
       "      <td>Abnormal</td>\n",
       "    </tr>\n",
       "    <tr>\n",
       "      <th>4</th>\n",
       "      <td>Mrs. Brandy Flowers</td>\n",
       "      <td>51</td>\n",
       "      <td>Male</td>\n",
       "      <td>O-</td>\n",
       "      <td>Arthritis</td>\n",
       "      <td>2021-07-09</td>\n",
       "      <td>Dustin Griffin</td>\n",
       "      <td>Jones, Brown and Murray</td>\n",
       "      <td>UnitedHealthcare</td>\n",
       "      <td>18086.344184</td>\n",
       "      <td>477</td>\n",
       "      <td>Urgent</td>\n",
       "      <td>2021-08-02</td>\n",
       "      <td>Paracetamol</td>\n",
       "      <td>Normal</td>\n",
       "    </tr>\n",
       "  </tbody>\n",
       "</table>\n",
       "</div>"
      ],
      "text/plain": [
       "                  Name  Age  Gender Blood Type Medical Condition  \\\n",
       "0      Tiffany Ramirez   81  Female         O-          Diabetes   \n",
       "1          Ruben Burns   35    Male         O+            Asthma   \n",
       "2            Chad Byrd   61    Male         B-           Obesity   \n",
       "3    Antonio Frederick   49    Male         B-            Asthma   \n",
       "4  Mrs. Brandy Flowers   51    Male         O-         Arthritis   \n",
       "\n",
       "  Date of Admission          Doctor                   Hospital  \\\n",
       "0        2022-11-17  Patrick Parker           Wallace-Hamilton   \n",
       "1        2023-06-01   Diane Jackson  Burke, Griffin and Cooper   \n",
       "2        2019-01-09      Paul Baker                 Walton LLC   \n",
       "3        2020-05-02  Brian Chandler                 Garcia Ltd   \n",
       "4        2021-07-09  Dustin Griffin    Jones, Brown and Murray   \n",
       "\n",
       "  Insurance Provider  Billing Amount  Room Number Admission Type  \\\n",
       "0           Medicare    37490.983364          146       Elective   \n",
       "1   UnitedHealthcare    47304.064845          404      Emergency   \n",
       "2           Medicare    36874.896997          292      Emergency   \n",
       "3           Medicare    23303.322092          480         Urgent   \n",
       "4   UnitedHealthcare    18086.344184          477         Urgent   \n",
       "\n",
       "  Discharge Date   Medication  Test Results  \n",
       "0     2022-12-01      Aspirin  Inconclusive  \n",
       "1     2023-06-15      Lipitor        Normal  \n",
       "2     2019-02-08      Lipitor        Normal  \n",
       "3     2020-05-03   Penicillin      Abnormal  \n",
       "4     2021-08-02  Paracetamol        Normal  "
      ]
     },
     "execution_count": 3,
     "metadata": {},
     "output_type": "execute_result"
    }
   ],
   "source": [
    "df.head()"
   ]
  },
  {
   "cell_type": "code",
   "execution_count": 8,
   "id": "41f18240",
   "metadata": {},
   "outputs": [
    {
     "data": {
      "text/plain": [
       "Name                  0\n",
       "Age                   0\n",
       "Gender                0\n",
       "Blood Type            0\n",
       "Medical Condition     0\n",
       "Date of Admission     0\n",
       "Doctor                0\n",
       "Hospital              0\n",
       "Insurance Provider    0\n",
       "Billing Amount        0\n",
       "Room Number           0\n",
       "Admission Type        0\n",
       "Discharge Date        0\n",
       "Medication            0\n",
       "Test Results          0\n",
       "dtype: int64"
      ]
     },
     "execution_count": 8,
     "metadata": {},
     "output_type": "execute_result"
    }
   ],
   "source": [
    "df.isnull().sum()"
   ]
  },
  {
   "cell_type": "code",
   "execution_count": 9,
   "id": "5e6e436e",
   "metadata": {},
   "outputs": [
    {
     "name": "stdout",
     "output_type": "stream",
     "text": [
      "<class 'pandas.core.frame.DataFrame'>\n",
      "RangeIndex: 10000 entries, 0 to 9999\n",
      "Data columns (total 15 columns):\n",
      " #   Column              Non-Null Count  Dtype  \n",
      "---  ------              --------------  -----  \n",
      " 0   Name                10000 non-null  object \n",
      " 1   Age                 10000 non-null  int64  \n",
      " 2   Gender              10000 non-null  object \n",
      " 3   Blood Type          10000 non-null  object \n",
      " 4   Medical Condition   10000 non-null  object \n",
      " 5   Date of Admission   10000 non-null  object \n",
      " 6   Doctor              10000 non-null  object \n",
      " 7   Hospital            10000 non-null  object \n",
      " 8   Insurance Provider  10000 non-null  object \n",
      " 9   Billing Amount      10000 non-null  float64\n",
      " 10  Room Number         10000 non-null  int64  \n",
      " 11  Admission Type      10000 non-null  object \n",
      " 12  Discharge Date      10000 non-null  object \n",
      " 13  Medication          10000 non-null  object \n",
      " 14  Test Results        10000 non-null  object \n",
      "dtypes: float64(1), int64(2), object(12)\n",
      "memory usage: 1.1+ MB\n"
     ]
    }
   ],
   "source": [
    "df.info()"
   ]
  },
  {
   "cell_type": "code",
   "execution_count": 10,
   "id": "3e8db106",
   "metadata": {},
   "outputs": [
    {
     "data": {
      "text/html": [
       "<div>\n",
       "<style scoped>\n",
       "    .dataframe tbody tr th:only-of-type {\n",
       "        vertical-align: middle;\n",
       "    }\n",
       "\n",
       "    .dataframe tbody tr th {\n",
       "        vertical-align: top;\n",
       "    }\n",
       "\n",
       "    .dataframe thead th {\n",
       "        text-align: right;\n",
       "    }\n",
       "</style>\n",
       "<table border=\"1\" class=\"dataframe\">\n",
       "  <thead>\n",
       "    <tr style=\"text-align: right;\">\n",
       "      <th></th>\n",
       "      <th>Age</th>\n",
       "      <th>Billing Amount</th>\n",
       "      <th>Room Number</th>\n",
       "    </tr>\n",
       "  </thead>\n",
       "  <tbody>\n",
       "    <tr>\n",
       "      <th>count</th>\n",
       "      <td>10000.000000</td>\n",
       "      <td>10000.000000</td>\n",
       "      <td>10000.000000</td>\n",
       "    </tr>\n",
       "    <tr>\n",
       "      <th>mean</th>\n",
       "      <td>51.452200</td>\n",
       "      <td>25516.806778</td>\n",
       "      <td>300.082000</td>\n",
       "    </tr>\n",
       "    <tr>\n",
       "      <th>std</th>\n",
       "      <td>19.588974</td>\n",
       "      <td>14067.292709</td>\n",
       "      <td>115.806027</td>\n",
       "    </tr>\n",
       "    <tr>\n",
       "      <th>min</th>\n",
       "      <td>18.000000</td>\n",
       "      <td>1000.180837</td>\n",
       "      <td>101.000000</td>\n",
       "    </tr>\n",
       "    <tr>\n",
       "      <th>25%</th>\n",
       "      <td>35.000000</td>\n",
       "      <td>13506.523967</td>\n",
       "      <td>199.000000</td>\n",
       "    </tr>\n",
       "    <tr>\n",
       "      <th>50%</th>\n",
       "      <td>52.000000</td>\n",
       "      <td>25258.112566</td>\n",
       "      <td>299.000000</td>\n",
       "    </tr>\n",
       "    <tr>\n",
       "      <th>75%</th>\n",
       "      <td>68.000000</td>\n",
       "      <td>37733.913727</td>\n",
       "      <td>400.000000</td>\n",
       "    </tr>\n",
       "    <tr>\n",
       "      <th>max</th>\n",
       "      <td>85.000000</td>\n",
       "      <td>49995.902283</td>\n",
       "      <td>500.000000</td>\n",
       "    </tr>\n",
       "  </tbody>\n",
       "</table>\n",
       "</div>"
      ],
      "text/plain": [
       "                Age  Billing Amount   Room Number\n",
       "count  10000.000000    10000.000000  10000.000000\n",
       "mean      51.452200    25516.806778    300.082000\n",
       "std       19.588974    14067.292709    115.806027\n",
       "min       18.000000     1000.180837    101.000000\n",
       "25%       35.000000    13506.523967    199.000000\n",
       "50%       52.000000    25258.112566    299.000000\n",
       "75%       68.000000    37733.913727    400.000000\n",
       "max       85.000000    49995.902283    500.000000"
      ]
     },
     "execution_count": 10,
     "metadata": {},
     "output_type": "execute_result"
    }
   ],
   "source": [
    "df.describe()"
   ]
  },
  {
   "cell_type": "code",
   "execution_count": 11,
   "id": "407154fe",
   "metadata": {},
   "outputs": [
    {
     "data": {
      "text/html": [
       "<div>\n",
       "<style scoped>\n",
       "    .dataframe tbody tr th:only-of-type {\n",
       "        vertical-align: middle;\n",
       "    }\n",
       "\n",
       "    .dataframe tbody tr th {\n",
       "        vertical-align: top;\n",
       "    }\n",
       "\n",
       "    .dataframe thead th {\n",
       "        text-align: right;\n",
       "    }\n",
       "</style>\n",
       "<table border=\"1\" class=\"dataframe\">\n",
       "  <thead>\n",
       "    <tr style=\"text-align: right;\">\n",
       "      <th></th>\n",
       "      <th>Billing Amount</th>\n",
       "    </tr>\n",
       "    <tr>\n",
       "      <th>Medical Condition</th>\n",
       "      <th></th>\n",
       "    </tr>\n",
       "  </thead>\n",
       "  <tbody>\n",
       "    <tr>\n",
       "      <th>Arthritis</th>\n",
       "      <td>25187.631255</td>\n",
       "    </tr>\n",
       "    <tr>\n",
       "      <th>Asthma</th>\n",
       "      <td>25416.869895</td>\n",
       "    </tr>\n",
       "    <tr>\n",
       "      <th>Cancer</th>\n",
       "      <td>25539.096133</td>\n",
       "    </tr>\n",
       "    <tr>\n",
       "      <th>Diabetes</th>\n",
       "      <td>26060.116129</td>\n",
       "    </tr>\n",
       "    <tr>\n",
       "      <th>Hypertension</th>\n",
       "      <td>25198.033973</td>\n",
       "    </tr>\n",
       "    <tr>\n",
       "      <th>Obesity</th>\n",
       "      <td>25720.842683</td>\n",
       "    </tr>\n",
       "  </tbody>\n",
       "</table>\n",
       "</div>"
      ],
      "text/plain": [
       "                   Billing Amount\n",
       "Medical Condition                \n",
       "Arthritis            25187.631255\n",
       "Asthma               25416.869895\n",
       "Cancer               25539.096133\n",
       "Diabetes             26060.116129\n",
       "Hypertension         25198.033973\n",
       "Obesity              25720.842683"
      ]
     },
     "execution_count": 11,
     "metadata": {},
     "output_type": "execute_result"
    }
   ],
   "source": [
    "df.groupby('Medical Condition').agg({'Billing Amount':'mean'})"
   ]
  },
  {
   "cell_type": "code",
   "execution_count": 12,
   "id": "e0544c5c",
   "metadata": {},
   "outputs": [],
   "source": [
    "df['Date of Admission']=pd.to_datetime(df['Date of Admission'])"
   ]
  },
  {
   "cell_type": "code",
   "execution_count": 13,
   "id": "f0eaf1e0",
   "metadata": {},
   "outputs": [],
   "source": [
    "df['Discharge Date']=pd.to_datetime(df['Discharge Date'])"
   ]
  },
  {
   "cell_type": "code",
   "execution_count": 14,
   "id": "622d08d3",
   "metadata": {},
   "outputs": [
    {
     "name": "stdout",
     "output_type": "stream",
     "text": [
      "<class 'pandas.core.frame.DataFrame'>\n",
      "RangeIndex: 10000 entries, 0 to 9999\n",
      "Data columns (total 15 columns):\n",
      " #   Column              Non-Null Count  Dtype         \n",
      "---  ------              --------------  -----         \n",
      " 0   Name                10000 non-null  object        \n",
      " 1   Age                 10000 non-null  int64         \n",
      " 2   Gender              10000 non-null  object        \n",
      " 3   Blood Type          10000 non-null  object        \n",
      " 4   Medical Condition   10000 non-null  object        \n",
      " 5   Date of Admission   10000 non-null  datetime64[ns]\n",
      " 6   Doctor              10000 non-null  object        \n",
      " 7   Hospital            10000 non-null  object        \n",
      " 8   Insurance Provider  10000 non-null  object        \n",
      " 9   Billing Amount      10000 non-null  float64       \n",
      " 10  Room Number         10000 non-null  int64         \n",
      " 11  Admission Type      10000 non-null  object        \n",
      " 12  Discharge Date      10000 non-null  datetime64[ns]\n",
      " 13  Medication          10000 non-null  object        \n",
      " 14  Test Results        10000 non-null  object        \n",
      "dtypes: datetime64[ns](2), float64(1), int64(2), object(10)\n",
      "memory usage: 1.1+ MB\n"
     ]
    }
   ],
   "source": [
    "df.info()"
   ]
  },
  {
   "cell_type": "code",
   "execution_count": 15,
   "id": "b7e775a3",
   "metadata": {},
   "outputs": [
    {
     "data": {
      "text/plain": [
       "0"
      ]
     },
     "execution_count": 15,
     "metadata": {},
     "output_type": "execute_result"
    }
   ],
   "source": [
    "df.duplicated().sum()"
   ]
  },
  {
   "cell_type": "code",
   "execution_count": 16,
   "id": "8516c391",
   "metadata": {},
   "outputs": [
    {
     "data": {
      "text/html": [
       "<div>\n",
       "<style scoped>\n",
       "    .dataframe tbody tr th:only-of-type {\n",
       "        vertical-align: middle;\n",
       "    }\n",
       "\n",
       "    .dataframe tbody tr th {\n",
       "        vertical-align: top;\n",
       "    }\n",
       "\n",
       "    .dataframe thead th {\n",
       "        text-align: right;\n",
       "    }\n",
       "</style>\n",
       "<table border=\"1\" class=\"dataframe\">\n",
       "  <thead>\n",
       "    <tr style=\"text-align: right;\">\n",
       "      <th></th>\n",
       "      <th>Name</th>\n",
       "      <th>Age</th>\n",
       "      <th>Gender</th>\n",
       "      <th>Blood Type</th>\n",
       "      <th>Medical Condition</th>\n",
       "      <th>Date of Admission</th>\n",
       "      <th>Doctor</th>\n",
       "      <th>Hospital</th>\n",
       "      <th>Insurance Provider</th>\n",
       "      <th>Billing Amount</th>\n",
       "      <th>Room Number</th>\n",
       "      <th>Admission Type</th>\n",
       "      <th>Discharge Date</th>\n",
       "      <th>Medication</th>\n",
       "      <th>Test Results</th>\n",
       "    </tr>\n",
       "  </thead>\n",
       "  <tbody>\n",
       "    <tr>\n",
       "      <th>2</th>\n",
       "      <td>Chad Byrd</td>\n",
       "      <td>61</td>\n",
       "      <td>Male</td>\n",
       "      <td>B-</td>\n",
       "      <td>Obesity</td>\n",
       "      <td>2019-01-09</td>\n",
       "      <td>Paul Baker</td>\n",
       "      <td>Walton LLC</td>\n",
       "      <td>Medicare</td>\n",
       "      <td>36874.896997</td>\n",
       "      <td>292</td>\n",
       "      <td>Emergency</td>\n",
       "      <td>2019-02-08</td>\n",
       "      <td>Lipitor</td>\n",
       "      <td>Normal</td>\n",
       "    </tr>\n",
       "  </tbody>\n",
       "</table>\n",
       "</div>"
      ],
      "text/plain": [
       "        Name  Age Gender Blood Type Medical Condition Date of Admission  \\\n",
       "2  Chad Byrd   61   Male         B-           Obesity        2019-01-09   \n",
       "\n",
       "       Doctor    Hospital Insurance Provider  Billing Amount  Room Number  \\\n",
       "2  Paul Baker  Walton LLC           Medicare    36874.896997          292   \n",
       "\n",
       "  Admission Type Discharge Date Medication Test Results  \n",
       "2      Emergency     2019-02-08    Lipitor       Normal  "
      ]
     },
     "execution_count": 16,
     "metadata": {},
     "output_type": "execute_result"
    }
   ],
   "source": [
    "df.query('Name==\"Chad Byrd\"')"
   ]
  },
  {
   "cell_type": "code",
   "execution_count": 17,
   "id": "6364939f",
   "metadata": {},
   "outputs": [
    {
     "data": {
      "text/html": [
       "<div>\n",
       "<style scoped>\n",
       "    .dataframe tbody tr th:only-of-type {\n",
       "        vertical-align: middle;\n",
       "    }\n",
       "\n",
       "    .dataframe tbody tr th {\n",
       "        vertical-align: top;\n",
       "    }\n",
       "\n",
       "    .dataframe thead th {\n",
       "        text-align: right;\n",
       "    }\n",
       "</style>\n",
       "<table border=\"1\" class=\"dataframe\">\n",
       "  <thead>\n",
       "    <tr style=\"text-align: right;\">\n",
       "      <th></th>\n",
       "      <th>Name</th>\n",
       "      <th>Age</th>\n",
       "      <th>Gender</th>\n",
       "      <th>Blood Type</th>\n",
       "      <th>Medical Condition</th>\n",
       "      <th>Date of Admission</th>\n",
       "      <th>Doctor</th>\n",
       "      <th>Hospital</th>\n",
       "      <th>Insurance Provider</th>\n",
       "      <th>Billing Amount</th>\n",
       "      <th>Room Number</th>\n",
       "      <th>Admission Type</th>\n",
       "      <th>Discharge Date</th>\n",
       "      <th>Medication</th>\n",
       "      <th>Test Results</th>\n",
       "    </tr>\n",
       "  </thead>\n",
       "  <tbody>\n",
       "    <tr>\n",
       "      <th>6426</th>\n",
       "      <td>Laura Jones</td>\n",
       "      <td>77</td>\n",
       "      <td>Male</td>\n",
       "      <td>O+</td>\n",
       "      <td>Obesity</td>\n",
       "      <td>2020-03-24</td>\n",
       "      <td>Shelby Merritt</td>\n",
       "      <td>Todd-Gonzalez</td>\n",
       "      <td>UnitedHealthcare</td>\n",
       "      <td>25848.394795</td>\n",
       "      <td>428</td>\n",
       "      <td>Elective</td>\n",
       "      <td>2020-04-17</td>\n",
       "      <td>Paracetamol</td>\n",
       "      <td>Abnormal</td>\n",
       "    </tr>\n",
       "  </tbody>\n",
       "</table>\n",
       "</div>"
      ],
      "text/plain": [
       "             Name  Age Gender Blood Type Medical Condition Date of Admission  \\\n",
       "6426  Laura Jones   77   Male         O+           Obesity        2020-03-24   \n",
       "\n",
       "              Doctor       Hospital Insurance Provider  Billing Amount  \\\n",
       "6426  Shelby Merritt  Todd-Gonzalez   UnitedHealthcare    25848.394795   \n",
       "\n",
       "      Room Number Admission Type Discharge Date   Medication Test Results  \n",
       "6426          428       Elective     2020-04-17  Paracetamol     Abnormal  "
      ]
     },
     "execution_count": 17,
     "metadata": {},
     "output_type": "execute_result"
    }
   ],
   "source": [
    "df.loc[df.duplicated(subset=['Name','Age','Blood Type'])]"
   ]
  },
  {
   "cell_type": "code",
   "execution_count": 18,
   "id": "669a21a0",
   "metadata": {},
   "outputs": [
    {
     "data": {
      "text/html": [
       "<div>\n",
       "<style scoped>\n",
       "    .dataframe tbody tr th:only-of-type {\n",
       "        vertical-align: middle;\n",
       "    }\n",
       "\n",
       "    .dataframe tbody tr th {\n",
       "        vertical-align: top;\n",
       "    }\n",
       "\n",
       "    .dataframe thead th {\n",
       "        text-align: right;\n",
       "    }\n",
       "</style>\n",
       "<table border=\"1\" class=\"dataframe\">\n",
       "  <thead>\n",
       "    <tr style=\"text-align: right;\">\n",
       "      <th></th>\n",
       "      <th>Name</th>\n",
       "      <th>Age</th>\n",
       "      <th>Gender</th>\n",
       "      <th>Blood Type</th>\n",
       "      <th>Medical Condition</th>\n",
       "      <th>Date of Admission</th>\n",
       "      <th>Doctor</th>\n",
       "      <th>Hospital</th>\n",
       "      <th>Insurance Provider</th>\n",
       "      <th>Billing Amount</th>\n",
       "      <th>Room Number</th>\n",
       "      <th>Admission Type</th>\n",
       "      <th>Discharge Date</th>\n",
       "      <th>Medication</th>\n",
       "      <th>Test Results</th>\n",
       "    </tr>\n",
       "  </thead>\n",
       "  <tbody>\n",
       "    <tr>\n",
       "      <th>990</th>\n",
       "      <td>Laura Jones</td>\n",
       "      <td>77</td>\n",
       "      <td>Female</td>\n",
       "      <td>O+</td>\n",
       "      <td>Hypertension</td>\n",
       "      <td>2021-01-09</td>\n",
       "      <td>Ashley Jackson</td>\n",
       "      <td>Campbell, Carter and Butler</td>\n",
       "      <td>Blue Cross</td>\n",
       "      <td>36183.545476</td>\n",
       "      <td>343</td>\n",
       "      <td>Urgent</td>\n",
       "      <td>2021-01-24</td>\n",
       "      <td>Ibuprofen</td>\n",
       "      <td>Inconclusive</td>\n",
       "    </tr>\n",
       "    <tr>\n",
       "      <th>6426</th>\n",
       "      <td>Laura Jones</td>\n",
       "      <td>77</td>\n",
       "      <td>Male</td>\n",
       "      <td>O+</td>\n",
       "      <td>Obesity</td>\n",
       "      <td>2020-03-24</td>\n",
       "      <td>Shelby Merritt</td>\n",
       "      <td>Todd-Gonzalez</td>\n",
       "      <td>UnitedHealthcare</td>\n",
       "      <td>25848.394795</td>\n",
       "      <td>428</td>\n",
       "      <td>Elective</td>\n",
       "      <td>2020-04-17</td>\n",
       "      <td>Paracetamol</td>\n",
       "      <td>Abnormal</td>\n",
       "    </tr>\n",
       "  </tbody>\n",
       "</table>\n",
       "</div>"
      ],
      "text/plain": [
       "             Name  Age  Gender Blood Type Medical Condition Date of Admission  \\\n",
       "990   Laura Jones   77  Female         O+      Hypertension        2021-01-09   \n",
       "6426  Laura Jones   77    Male         O+           Obesity        2020-03-24   \n",
       "\n",
       "              Doctor                     Hospital Insurance Provider  \\\n",
       "990   Ashley Jackson  Campbell, Carter and Butler         Blue Cross   \n",
       "6426  Shelby Merritt                Todd-Gonzalez   UnitedHealthcare   \n",
       "\n",
       "      Billing Amount  Room Number Admission Type Discharge Date   Medication  \\\n",
       "990     36183.545476          343         Urgent     2021-01-24    Ibuprofen   \n",
       "6426    25848.394795          428       Elective     2020-04-17  Paracetamol   \n",
       "\n",
       "      Test Results  \n",
       "990   Inconclusive  \n",
       "6426      Abnormal  "
      ]
     },
     "execution_count": 18,
     "metadata": {},
     "output_type": "execute_result"
    }
   ],
   "source": [
    "df.query('Name==\"Laura Jones\"')"
   ]
  },
  {
   "cell_type": "code",
   "execution_count": 19,
   "id": "a4b28681",
   "metadata": {},
   "outputs": [
    {
     "data": {
      "text/plain": [
       "0       14\n",
       "1       14\n",
       "2       30\n",
       "3        1\n",
       "4       24\n",
       "        ..\n",
       "9995     4\n",
       "9996    23\n",
       "9997    14\n",
       "9998    20\n",
       "9999    24\n",
       "Name: Days at Hospital, Length: 10000, dtype: int64"
      ]
     },
     "execution_count": 19,
     "metadata": {},
     "output_type": "execute_result"
    }
   ],
   "source": [
    "df['Days at Hospital']=(df['Discharge Date']-df['Date of Admission']).dt.days\n",
    "df['Days at Hospital']"
   ]
  },
  {
   "cell_type": "code",
   "execution_count": 20,
   "id": "e708ce4d",
   "metadata": {},
   "outputs": [],
   "source": [
    "df['Days at Hospital']=df['Days at Hospital'].astype(int)"
   ]
  },
  {
   "cell_type": "code",
   "execution_count": 21,
   "id": "7d5730c3",
   "metadata": {},
   "outputs": [
    {
     "data": {
      "text/html": [
       "<div>\n",
       "<style scoped>\n",
       "    .dataframe tbody tr th:only-of-type {\n",
       "        vertical-align: middle;\n",
       "    }\n",
       "\n",
       "    .dataframe tbody tr th {\n",
       "        vertical-align: top;\n",
       "    }\n",
       "\n",
       "    .dataframe thead th {\n",
       "        text-align: right;\n",
       "    }\n",
       "</style>\n",
       "<table border=\"1\" class=\"dataframe\">\n",
       "  <thead>\n",
       "    <tr style=\"text-align: right;\">\n",
       "      <th></th>\n",
       "      <th>Name</th>\n",
       "      <th>Age</th>\n",
       "      <th>Gender</th>\n",
       "      <th>Blood Type</th>\n",
       "      <th>Medical Condition</th>\n",
       "      <th>Date of Admission</th>\n",
       "      <th>Doctor</th>\n",
       "      <th>Hospital</th>\n",
       "      <th>Insurance Provider</th>\n",
       "      <th>Billing Amount</th>\n",
       "      <th>Room Number</th>\n",
       "      <th>Admission Type</th>\n",
       "      <th>Discharge Date</th>\n",
       "      <th>Medication</th>\n",
       "      <th>Test Results</th>\n",
       "      <th>Days at Hospital</th>\n",
       "    </tr>\n",
       "  </thead>\n",
       "  <tbody>\n",
       "    <tr>\n",
       "      <th>0</th>\n",
       "      <td>Tiffany Ramirez</td>\n",
       "      <td>81</td>\n",
       "      <td>Female</td>\n",
       "      <td>O-</td>\n",
       "      <td>Diabetes</td>\n",
       "      <td>2022-11-17</td>\n",
       "      <td>Patrick Parker</td>\n",
       "      <td>Wallace-Hamilton</td>\n",
       "      <td>Medicare</td>\n",
       "      <td>37490.983364</td>\n",
       "      <td>146</td>\n",
       "      <td>Elective</td>\n",
       "      <td>2022-12-01</td>\n",
       "      <td>Aspirin</td>\n",
       "      <td>Inconclusive</td>\n",
       "      <td>14</td>\n",
       "    </tr>\n",
       "    <tr>\n",
       "      <th>1</th>\n",
       "      <td>Ruben Burns</td>\n",
       "      <td>35</td>\n",
       "      <td>Male</td>\n",
       "      <td>O+</td>\n",
       "      <td>Asthma</td>\n",
       "      <td>2023-06-01</td>\n",
       "      <td>Diane Jackson</td>\n",
       "      <td>Burke, Griffin and Cooper</td>\n",
       "      <td>UnitedHealthcare</td>\n",
       "      <td>47304.064845</td>\n",
       "      <td>404</td>\n",
       "      <td>Emergency</td>\n",
       "      <td>2023-06-15</td>\n",
       "      <td>Lipitor</td>\n",
       "      <td>Normal</td>\n",
       "      <td>14</td>\n",
       "    </tr>\n",
       "    <tr>\n",
       "      <th>2</th>\n",
       "      <td>Chad Byrd</td>\n",
       "      <td>61</td>\n",
       "      <td>Male</td>\n",
       "      <td>B-</td>\n",
       "      <td>Obesity</td>\n",
       "      <td>2019-01-09</td>\n",
       "      <td>Paul Baker</td>\n",
       "      <td>Walton LLC</td>\n",
       "      <td>Medicare</td>\n",
       "      <td>36874.896997</td>\n",
       "      <td>292</td>\n",
       "      <td>Emergency</td>\n",
       "      <td>2019-02-08</td>\n",
       "      <td>Lipitor</td>\n",
       "      <td>Normal</td>\n",
       "      <td>30</td>\n",
       "    </tr>\n",
       "    <tr>\n",
       "      <th>3</th>\n",
       "      <td>Antonio Frederick</td>\n",
       "      <td>49</td>\n",
       "      <td>Male</td>\n",
       "      <td>B-</td>\n",
       "      <td>Asthma</td>\n",
       "      <td>2020-05-02</td>\n",
       "      <td>Brian Chandler</td>\n",
       "      <td>Garcia Ltd</td>\n",
       "      <td>Medicare</td>\n",
       "      <td>23303.322092</td>\n",
       "      <td>480</td>\n",
       "      <td>Urgent</td>\n",
       "      <td>2020-05-03</td>\n",
       "      <td>Penicillin</td>\n",
       "      <td>Abnormal</td>\n",
       "      <td>1</td>\n",
       "    </tr>\n",
       "    <tr>\n",
       "      <th>4</th>\n",
       "      <td>Mrs. Brandy Flowers</td>\n",
       "      <td>51</td>\n",
       "      <td>Male</td>\n",
       "      <td>O-</td>\n",
       "      <td>Arthritis</td>\n",
       "      <td>2021-07-09</td>\n",
       "      <td>Dustin Griffin</td>\n",
       "      <td>Jones, Brown and Murray</td>\n",
       "      <td>UnitedHealthcare</td>\n",
       "      <td>18086.344184</td>\n",
       "      <td>477</td>\n",
       "      <td>Urgent</td>\n",
       "      <td>2021-08-02</td>\n",
       "      <td>Paracetamol</td>\n",
       "      <td>Normal</td>\n",
       "      <td>24</td>\n",
       "    </tr>\n",
       "  </tbody>\n",
       "</table>\n",
       "</div>"
      ],
      "text/plain": [
       "                  Name  Age  Gender Blood Type Medical Condition  \\\n",
       "0      Tiffany Ramirez   81  Female         O-          Diabetes   \n",
       "1          Ruben Burns   35    Male         O+            Asthma   \n",
       "2            Chad Byrd   61    Male         B-           Obesity   \n",
       "3    Antonio Frederick   49    Male         B-            Asthma   \n",
       "4  Mrs. Brandy Flowers   51    Male         O-         Arthritis   \n",
       "\n",
       "  Date of Admission          Doctor                   Hospital  \\\n",
       "0        2022-11-17  Patrick Parker           Wallace-Hamilton   \n",
       "1        2023-06-01   Diane Jackson  Burke, Griffin and Cooper   \n",
       "2        2019-01-09      Paul Baker                 Walton LLC   \n",
       "3        2020-05-02  Brian Chandler                 Garcia Ltd   \n",
       "4        2021-07-09  Dustin Griffin    Jones, Brown and Murray   \n",
       "\n",
       "  Insurance Provider  Billing Amount  Room Number Admission Type  \\\n",
       "0           Medicare    37490.983364          146       Elective   \n",
       "1   UnitedHealthcare    47304.064845          404      Emergency   \n",
       "2           Medicare    36874.896997          292      Emergency   \n",
       "3           Medicare    23303.322092          480         Urgent   \n",
       "4   UnitedHealthcare    18086.344184          477         Urgent   \n",
       "\n",
       "  Discharge Date   Medication  Test Results  Days at Hospital  \n",
       "0     2022-12-01      Aspirin  Inconclusive                14  \n",
       "1     2023-06-15      Lipitor        Normal                14  \n",
       "2     2019-02-08      Lipitor        Normal                30  \n",
       "3     2020-05-03   Penicillin      Abnormal                 1  \n",
       "4     2021-08-02  Paracetamol        Normal                24  "
      ]
     },
     "execution_count": 21,
     "metadata": {},
     "output_type": "execute_result"
    }
   ],
   "source": [
    "df.head()"
   ]
  },
  {
   "cell_type": "code",
   "execution_count": 22,
   "id": "19ff433a",
   "metadata": {},
   "outputs": [
    {
     "data": {
      "text/plain": [
       "<AxesSubplot:title={'center':'Age Classification'}, ylabel='Frequency'>"
      ]
     },
     "execution_count": 22,
     "metadata": {},
     "output_type": "execute_result"
    },
    {
     "data": {
      "image/png": "[encoded data removed]",
      "text/plain": [
       "<Figure size 432x288 with 1 Axes>"
      ]
     },
     "metadata": {
      "needs_background": "light"
     },
     "output_type": "display_data"
    }
   ],
   "source": [
    "df['Age'].plot(kind='hist',bins=20,title='Age Classification')\n"
   ]
  },
  {
   "cell_type": "code",
   "execution_count": 23,
   "id": "4371f57f",
   "metadata": {},
   "outputs": [
    {
     "data": {
      "image/png": "[encoded data removed]",
      "text/plain": [
       "<Figure size 1080x360 with 1 Axes>"
      ]
     },
     "metadata": {
      "needs_background": "light"
     },
     "output_type": "display_data"
    }
   ],
   "source": [
    "df.plot(kind='bar', x='Days at Hospital', y='Age',figsize=(15,5))\n",
    "plt.tight_layout()\n",
    "plt.show()"
   ]
  },
  {
   "cell_type": "code",
   "execution_count": 20,
   "id": "f85c9cc1",
   "metadata": {},
   "outputs": [
    {
     "data": {
      "text/plain": [
       "30"
      ]
     },
     "execution_count": 20,
     "metadata": {},
     "output_type": "execute_result"
    }
   ],
   "source": [
    "df['Days at Hospital'].max()"
   ]
  },
  {
   "cell_type": "code",
   "execution_count": 21,
   "id": "78bff45e",
   "metadata": {},
   "outputs": [
    {
     "data": {
      "text/plain": [
       "Text(0.5, 0, 'Age')"
      ]
     },
     "execution_count": 21,
     "metadata": {},
     "output_type": "execute_result"
    },
    {
     "data": {
      "image/png": "[encoded data removed]",
      "text/plain": [
       "<Figure size 432x288 with 1 Axes>"
      ]
     },
     "metadata": {
      "needs_background": "light"
     },
     "output_type": "display_data"
    }
   ],
   "source": [
    "ax=df['Age'].plot(kind='kde',title='Age Classification')\n",
    "ax.set_xlabel('Age')"
   ]
  },
  {
   "cell_type": "code",
   "execution_count": 22,
   "id": "08f2a7d7",
   "metadata": {},
   "outputs": [
    {
     "data": {
      "text/plain": [
       "<AxesSubplot:>"
      ]
     },
     "execution_count": 22,
     "metadata": {},
     "output_type": "execute_result"
    },
    {
     "data": {
      "image/png": "[encoded data removed]",
      "text/plain": [
       "<Figure size 432x288 with 1 Axes>"
      ]
     },
     "metadata": {
      "needs_background": "light"
     },
     "output_type": "display_data"
    }
   ],
   "source": [
    "df['Date of Admission'].value_counts().head(10).plot(kind='bar')"
   ]
  },
  {
   "cell_type": "code",
   "execution_count": 24,
   "id": "9fe2a99c",
   "metadata": {},
   "outputs": [
    {
     "data": {
      "text/html": [
       "<div>\n",
       "<style scoped>\n",
       "    .dataframe tbody tr th:only-of-type {\n",
       "        vertical-align: middle;\n",
       "    }\n",
       "\n",
       "    .dataframe tbody tr th {\n",
       "        vertical-align: top;\n",
       "    }\n",
       "\n",
       "    .dataframe thead th {\n",
       "        text-align: right;\n",
       "    }\n",
       "</style>\n",
       "<table border=\"1\" class=\"dataframe\">\n",
       "  <thead>\n",
       "    <tr style=\"text-align: right;\">\n",
       "      <th></th>\n",
       "      <th></th>\n",
       "      <th>Days at Hospital</th>\n",
       "    </tr>\n",
       "    <tr>\n",
       "      <th>Gender</th>\n",
       "      <th>Age</th>\n",
       "      <th></th>\n",
       "    </tr>\n",
       "  </thead>\n",
       "  <tbody>\n",
       "    <tr>\n",
       "      <th rowspan=\"5\" valign=\"top\">Female</th>\n",
       "      <th>18</th>\n",
       "      <td>86</td>\n",
       "    </tr>\n",
       "    <tr>\n",
       "      <th>19</th>\n",
       "      <td>62</td>\n",
       "    </tr>\n",
       "    <tr>\n",
       "      <th>20</th>\n",
       "      <td>94</td>\n",
       "    </tr>\n",
       "    <tr>\n",
       "      <th>21</th>\n",
       "      <td>80</td>\n",
       "    </tr>\n",
       "    <tr>\n",
       "      <th>22</th>\n",
       "      <td>59</td>\n",
       "    </tr>\n",
       "    <tr>\n",
       "      <th>...</th>\n",
       "      <th>...</th>\n",
       "      <td>...</td>\n",
       "    </tr>\n",
       "    <tr>\n",
       "      <th rowspan=\"5\" valign=\"top\">Male</th>\n",
       "      <th>81</th>\n",
       "      <td>80</td>\n",
       "    </tr>\n",
       "    <tr>\n",
       "      <th>82</th>\n",
       "      <td>76</td>\n",
       "    </tr>\n",
       "    <tr>\n",
       "      <th>83</th>\n",
       "      <td>53</td>\n",
       "    </tr>\n",
       "    <tr>\n",
       "      <th>84</th>\n",
       "      <td>74</td>\n",
       "    </tr>\n",
       "    <tr>\n",
       "      <th>85</th>\n",
       "      <td>51</td>\n",
       "    </tr>\n",
       "  </tbody>\n",
       "</table>\n",
       "<p>136 rows × 1 columns</p>\n",
       "</div>"
      ],
      "text/plain": [
       "            Days at Hospital\n",
       "Gender Age                  \n",
       "Female 18                 86\n",
       "       19                 62\n",
       "       20                 94\n",
       "       21                 80\n",
       "       22                 59\n",
       "...                      ...\n",
       "Male   81                 80\n",
       "       82                 76\n",
       "       83                 53\n",
       "       84                 74\n",
       "       85                 51\n",
       "\n",
       "[136 rows x 1 columns]"
      ]
     },
     "execution_count": 24,
     "metadata": {},
     "output_type": "execute_result"
    }
   ],
   "source": [
    "df.groupby(['Gender','Age']).agg({'Days at Hospital':'count'})"
   ]
  },
  {
   "cell_type": "code",
   "execution_count": 25,
   "id": "c7000b6f",
   "metadata": {},
   "outputs": [
    {
     "data": {
      "text/html": [
       "<div>\n",
       "<style scoped>\n",
       "    .dataframe tbody tr th:only-of-type {\n",
       "        vertical-align: middle;\n",
       "    }\n",
       "\n",
       "    .dataframe tbody tr th {\n",
       "        vertical-align: top;\n",
       "    }\n",
       "\n",
       "    .dataframe thead th {\n",
       "        text-align: right;\n",
       "    }\n",
       "</style>\n",
       "<table border=\"1\" class=\"dataframe\">\n",
       "  <thead>\n",
       "    <tr style=\"text-align: right;\">\n",
       "      <th></th>\n",
       "      <th>Days at Hospital</th>\n",
       "    </tr>\n",
       "    <tr>\n",
       "      <th>Gender</th>\n",
       "      <th></th>\n",
       "    </tr>\n",
       "  </thead>\n",
       "  <tbody>\n",
       "    <tr>\n",
       "      <th>Female</th>\n",
       "      <td>5075</td>\n",
       "    </tr>\n",
       "    <tr>\n",
       "      <th>Male</th>\n",
       "      <td>4925</td>\n",
       "    </tr>\n",
       "  </tbody>\n",
       "</table>\n",
       "</div>"
      ],
      "text/plain": [
       "        Days at Hospital\n",
       "Gender                  \n",
       "Female              5075\n",
       "Male                4925"
      ]
     },
     "execution_count": 25,
     "metadata": {},
     "output_type": "execute_result"
    }
   ],
   "source": [
    "ax=df.groupby('Gender').aggregate({'Days at Hospital':'count'})\n",
    "ax"
   ]
  },
  {
   "cell_type": "code",
   "execution_count": 26,
   "id": "304a54ed",
   "metadata": {},
   "outputs": [
    {
     "data": {
      "image/png": "[encoded data removed]",
      "text/plain": [
       "<Figure size 432x432 with 1 Axes>"
      ]
     },
     "metadata": {
      "needs_background": "light"
     },
     "output_type": "display_data"
    }
   ],
   "source": [
    "ax.plot(kind='barh', y='Days at Hospital', title='Days at Hospital by Gender',legend=True, figsize=(6,6))\n",
    "\n",
    "plt.show()\n"
   ]
  },
  {
   "cell_type": "code",
   "execution_count": 27,
   "id": "a1fd2017",
   "metadata": {},
   "outputs": [],
   "source": [
    "corr=df.corr()"
   ]
  },
  {
   "cell_type": "code",
   "execution_count": 28,
   "id": "f910957b",
   "metadata": {},
   "outputs": [
    {
     "data": {
      "text/html": [
       "<div>\n",
       "<style scoped>\n",
       "    .dataframe tbody tr th:only-of-type {\n",
       "        vertical-align: middle;\n",
       "    }\n",
       "\n",
       "    .dataframe tbody tr th {\n",
       "        vertical-align: top;\n",
       "    }\n",
       "\n",
       "    .dataframe thead th {\n",
       "        text-align: right;\n",
       "    }\n",
       "</style>\n",
       "<table border=\"1\" class=\"dataframe\">\n",
       "  <thead>\n",
       "    <tr style=\"text-align: right;\">\n",
       "      <th></th>\n",
       "      <th>Age</th>\n",
       "      <th>Billing Amount</th>\n",
       "      <th>Room Number</th>\n",
       "      <th>Days at Hospital</th>\n",
       "    </tr>\n",
       "  </thead>\n",
       "  <tbody>\n",
       "    <tr>\n",
       "      <th>Age</th>\n",
       "      <td>1.000000</td>\n",
       "      <td>-0.009483</td>\n",
       "      <td>-0.005371</td>\n",
       "      <td>0.009111</td>\n",
       "    </tr>\n",
       "    <tr>\n",
       "      <th>Billing Amount</th>\n",
       "      <td>-0.009483</td>\n",
       "      <td>1.000000</td>\n",
       "      <td>-0.006160</td>\n",
       "      <td>-0.013507</td>\n",
       "    </tr>\n",
       "    <tr>\n",
       "      <th>Room Number</th>\n",
       "      <td>-0.005371</td>\n",
       "      <td>-0.006160</td>\n",
       "      <td>1.000000</td>\n",
       "      <td>0.009610</td>\n",
       "    </tr>\n",
       "    <tr>\n",
       "      <th>Days at Hospital</th>\n",
       "      <td>0.009111</td>\n",
       "      <td>-0.013507</td>\n",
       "      <td>0.009610</td>\n",
       "      <td>1.000000</td>\n",
       "    </tr>\n",
       "  </tbody>\n",
       "</table>\n",
       "</div>"
      ],
      "text/plain": [
       "                       Age  Billing Amount  Room Number  Days at Hospital\n",
       "Age               1.000000       -0.009483    -0.005371          0.009111\n",
       "Billing Amount   -0.009483        1.000000    -0.006160         -0.013507\n",
       "Room Number      -0.005371       -0.006160     1.000000          0.009610\n",
       "Days at Hospital  0.009111       -0.013507     0.009610          1.000000"
      ]
     },
     "execution_count": 28,
     "metadata": {},
     "output_type": "execute_result"
    }
   ],
   "source": [
    "corr"
   ]
  },
  {
   "cell_type": "code",
   "execution_count": 29,
   "id": "8f237868",
   "metadata": {},
   "outputs": [
    {
     "data": {
      "text/plain": [
       "<AxesSubplot:>"
      ]
     },
     "execution_count": 29,
     "metadata": {},
     "output_type": "execute_result"
    },
    {
     "data": {
      "image/png": "[encoded data removed]",
      "text/plain": [
       "<Figure size 432x288 with 2 Axes>"
      ]
     },
     "metadata": {
      "needs_background": "light"
     },
     "output_type": "display_data"
    }
   ],
   "source": [
    "sns.heatmap(corr, annot=True)"
   ]
  },
  {
   "cell_type": "code",
   "execution_count": 79,
   "id": "9d4bc6b7",
   "metadata": {},
   "outputs": [
    {
     "data": {
      "text/plain": [
       "49995.90228322116"
      ]
     },
     "execution_count": 79,
     "metadata": {},
     "output_type": "execute_result"
    }
   ],
   "source": [
    "df['Billing Amount'] .max()"
   ]
  },
  {
   "cell_type": "code",
   "execution_count": 77,
   "id": "561655c1",
   "metadata": {},
   "outputs": [
    {
     "data": {
      "text/plain": [
       "85"
      ]
     },
     "execution_count": 77,
     "metadata": {},
     "output_type": "execute_result"
    }
   ],
   "source": [
    "df['Age'].max()"
   ]
  },
  {
   "cell_type": "code",
   "execution_count": 36,
   "id": "56d9c819",
   "metadata": {},
   "outputs": [
    {
     "data": {
      "text/plain": [
       "Name                         Amanda Ortiz\n",
       "Age                                    35\n",
       "Gender                               Male\n",
       "Blood Type                             A+\n",
       "Medical Condition                  Cancer\n",
       "Date of Admission     2019-06-30 00:00:00\n",
       "Doctor                     John Chavez MD\n",
       "Hospital                       Miller Ltd\n",
       "Insurance Provider                  Aetna\n",
       "Billing Amount               47452.441876\n",
       "Room Number                           141\n",
       "Admission Type                     Urgent\n",
       "Discharge Date        2019-07-20 00:00:00\n",
       "Medication                        Lipitor\n",
       "Test Results                     Abnormal\n",
       "Days at Hospital                       20\n",
       "Name: 85, dtype: object"
      ]
     },
     "execution_count": 36,
     "metadata": {},
     "output_type": "execute_result"
    }
   ],
   "source": [
    "df.loc[df['Age'].max()]\n"
   ]
  },
  {
   "cell_type": "code",
   "execution_count": 39,
   "id": "fbac419f",
   "metadata": {},
   "outputs": [
    {
     "data": {
      "text/html": [
       "<div>\n",
       "<style scoped>\n",
       "    .dataframe tbody tr th:only-of-type {\n",
       "        vertical-align: middle;\n",
       "    }\n",
       "\n",
       "    .dataframe tbody tr th {\n",
       "        vertical-align: top;\n",
       "    }\n",
       "\n",
       "    .dataframe thead th {\n",
       "        text-align: right;\n",
       "    }\n",
       "</style>\n",
       "<table border=\"1\" class=\"dataframe\">\n",
       "  <thead>\n",
       "    <tr style=\"text-align: right;\">\n",
       "      <th></th>\n",
       "      <th>Name</th>\n",
       "      <th>Age</th>\n",
       "      <th>Gender</th>\n",
       "      <th>Blood Type</th>\n",
       "      <th>Medical Condition</th>\n",
       "      <th>Date of Admission</th>\n",
       "      <th>Doctor</th>\n",
       "      <th>Hospital</th>\n",
       "      <th>Insurance Provider</th>\n",
       "      <th>Billing Amount</th>\n",
       "      <th>Room Number</th>\n",
       "      <th>Admission Type</th>\n",
       "      <th>Discharge Date</th>\n",
       "      <th>Medication</th>\n",
       "      <th>Test Results</th>\n",
       "      <th>Days at Hospital</th>\n",
       "    </tr>\n",
       "  </thead>\n",
       "  <tbody>\n",
       "    <tr>\n",
       "      <th>12</th>\n",
       "      <td>Christina Williams</td>\n",
       "      <td>85</td>\n",
       "      <td>Female</td>\n",
       "      <td>A+</td>\n",
       "      <td>Diabetes</td>\n",
       "      <td>2021-11-29</td>\n",
       "      <td>Laura Roberts</td>\n",
       "      <td>Malone, Thompson and Mejia</td>\n",
       "      <td>Aetna</td>\n",
       "      <td>4835.945650</td>\n",
       "      <td>444</td>\n",
       "      <td>Elective</td>\n",
       "      <td>2021-12-14</td>\n",
       "      <td>Aspirin</td>\n",
       "      <td>Inconclusive</td>\n",
       "      <td>15</td>\n",
       "    </tr>\n",
       "    <tr>\n",
       "      <th>103</th>\n",
       "      <td>Amber Solomon</td>\n",
       "      <td>85</td>\n",
       "      <td>Male</td>\n",
       "      <td>A+</td>\n",
       "      <td>Hypertension</td>\n",
       "      <td>2020-12-28</td>\n",
       "      <td>Denise Richards</td>\n",
       "      <td>Lopez-Mason</td>\n",
       "      <td>UnitedHealthcare</td>\n",
       "      <td>23517.461852</td>\n",
       "      <td>389</td>\n",
       "      <td>Urgent</td>\n",
       "      <td>2021-01-14</td>\n",
       "      <td>Paracetamol</td>\n",
       "      <td>Normal</td>\n",
       "      <td>17</td>\n",
       "    </tr>\n",
       "    <tr>\n",
       "      <th>139</th>\n",
       "      <td>Sheila Castro</td>\n",
       "      <td>85</td>\n",
       "      <td>Female</td>\n",
       "      <td>AB-</td>\n",
       "      <td>Diabetes</td>\n",
       "      <td>2023-08-19</td>\n",
       "      <td>Zachary Potter</td>\n",
       "      <td>Ross-Kelly</td>\n",
       "      <td>Medicare</td>\n",
       "      <td>10591.269644</td>\n",
       "      <td>115</td>\n",
       "      <td>Emergency</td>\n",
       "      <td>2023-08-27</td>\n",
       "      <td>Penicillin</td>\n",
       "      <td>Inconclusive</td>\n",
       "      <td>8</td>\n",
       "    </tr>\n",
       "    <tr>\n",
       "      <th>168</th>\n",
       "      <td>Raymond Cain</td>\n",
       "      <td>85</td>\n",
       "      <td>Female</td>\n",
       "      <td>B+</td>\n",
       "      <td>Asthma</td>\n",
       "      <td>2023-05-24</td>\n",
       "      <td>Joseph Navarro</td>\n",
       "      <td>Singleton, Cross and Jordan</td>\n",
       "      <td>UnitedHealthcare</td>\n",
       "      <td>21470.417738</td>\n",
       "      <td>264</td>\n",
       "      <td>Elective</td>\n",
       "      <td>2023-05-27</td>\n",
       "      <td>Aspirin</td>\n",
       "      <td>Inconclusive</td>\n",
       "      <td>3</td>\n",
       "    </tr>\n",
       "    <tr>\n",
       "      <th>543</th>\n",
       "      <td>Julie Johnston</td>\n",
       "      <td>85</td>\n",
       "      <td>Female</td>\n",
       "      <td>O-</td>\n",
       "      <td>Obesity</td>\n",
       "      <td>2019-10-22</td>\n",
       "      <td>Randy Carlson</td>\n",
       "      <td>Whitaker, Silva and Thomas</td>\n",
       "      <td>UnitedHealthcare</td>\n",
       "      <td>26730.533031</td>\n",
       "      <td>475</td>\n",
       "      <td>Elective</td>\n",
       "      <td>2019-11-14</td>\n",
       "      <td>Lipitor</td>\n",
       "      <td>Normal</td>\n",
       "      <td>23</td>\n",
       "    </tr>\n",
       "    <tr>\n",
       "      <th>...</th>\n",
       "      <td>...</td>\n",
       "      <td>...</td>\n",
       "      <td>...</td>\n",
       "      <td>...</td>\n",
       "      <td>...</td>\n",
       "      <td>...</td>\n",
       "      <td>...</td>\n",
       "      <td>...</td>\n",
       "      <td>...</td>\n",
       "      <td>...</td>\n",
       "      <td>...</td>\n",
       "      <td>...</td>\n",
       "      <td>...</td>\n",
       "      <td>...</td>\n",
       "      <td>...</td>\n",
       "      <td>...</td>\n",
       "    </tr>\n",
       "    <tr>\n",
       "      <th>9846</th>\n",
       "      <td>Kimberly Rivas</td>\n",
       "      <td>85</td>\n",
       "      <td>Female</td>\n",
       "      <td>B-</td>\n",
       "      <td>Diabetes</td>\n",
       "      <td>2019-06-20</td>\n",
       "      <td>Benjamin Fitzgerald</td>\n",
       "      <td>Porter-Johnson</td>\n",
       "      <td>UnitedHealthcare</td>\n",
       "      <td>38745.175874</td>\n",
       "      <td>275</td>\n",
       "      <td>Emergency</td>\n",
       "      <td>2019-06-22</td>\n",
       "      <td>Lipitor</td>\n",
       "      <td>Abnormal</td>\n",
       "      <td>2</td>\n",
       "    </tr>\n",
       "    <tr>\n",
       "      <th>9877</th>\n",
       "      <td>Michael Martinez</td>\n",
       "      <td>85</td>\n",
       "      <td>Male</td>\n",
       "      <td>A+</td>\n",
       "      <td>Cancer</td>\n",
       "      <td>2020-05-11</td>\n",
       "      <td>Monica Clark</td>\n",
       "      <td>Martinez LLC</td>\n",
       "      <td>Blue Cross</td>\n",
       "      <td>4780.693192</td>\n",
       "      <td>382</td>\n",
       "      <td>Elective</td>\n",
       "      <td>2020-05-25</td>\n",
       "      <td>Penicillin</td>\n",
       "      <td>Normal</td>\n",
       "      <td>14</td>\n",
       "    </tr>\n",
       "    <tr>\n",
       "      <th>9905</th>\n",
       "      <td>Paul Henry</td>\n",
       "      <td>85</td>\n",
       "      <td>Female</td>\n",
       "      <td>B+</td>\n",
       "      <td>Diabetes</td>\n",
       "      <td>2018-12-04</td>\n",
       "      <td>Christine Miles</td>\n",
       "      <td>Williams, Allen and Walker</td>\n",
       "      <td>Blue Cross</td>\n",
       "      <td>28095.844317</td>\n",
       "      <td>251</td>\n",
       "      <td>Urgent</td>\n",
       "      <td>2018-12-18</td>\n",
       "      <td>Paracetamol</td>\n",
       "      <td>Inconclusive</td>\n",
       "      <td>14</td>\n",
       "    </tr>\n",
       "    <tr>\n",
       "      <th>9910</th>\n",
       "      <td>Heather Stewart</td>\n",
       "      <td>85</td>\n",
       "      <td>Female</td>\n",
       "      <td>B+</td>\n",
       "      <td>Arthritis</td>\n",
       "      <td>2018-11-10</td>\n",
       "      <td>Blake Lara</td>\n",
       "      <td>White LLC</td>\n",
       "      <td>UnitedHealthcare</td>\n",
       "      <td>36241.466526</td>\n",
       "      <td>495</td>\n",
       "      <td>Urgent</td>\n",
       "      <td>2018-11-22</td>\n",
       "      <td>Lipitor</td>\n",
       "      <td>Normal</td>\n",
       "      <td>12</td>\n",
       "    </tr>\n",
       "    <tr>\n",
       "      <th>9917</th>\n",
       "      <td>Justin Morales</td>\n",
       "      <td>85</td>\n",
       "      <td>Male</td>\n",
       "      <td>O-</td>\n",
       "      <td>Hypertension</td>\n",
       "      <td>2019-07-13</td>\n",
       "      <td>Richard Horne</td>\n",
       "      <td>Ramirez-Rodriguez</td>\n",
       "      <td>Medicare</td>\n",
       "      <td>33120.346690</td>\n",
       "      <td>219</td>\n",
       "      <td>Emergency</td>\n",
       "      <td>2019-08-11</td>\n",
       "      <td>Penicillin</td>\n",
       "      <td>Abnormal</td>\n",
       "      <td>29</td>\n",
       "    </tr>\n",
       "  </tbody>\n",
       "</table>\n",
       "<p>123 rows × 16 columns</p>\n",
       "</div>"
      ],
      "text/plain": [
       "                    Name  Age  Gender Blood Type Medical Condition  \\\n",
       "12    Christina Williams   85  Female         A+          Diabetes   \n",
       "103        Amber Solomon   85    Male         A+      Hypertension   \n",
       "139        Sheila Castro   85  Female        AB-          Diabetes   \n",
       "168         Raymond Cain   85  Female         B+            Asthma   \n",
       "543       Julie Johnston   85  Female         O-           Obesity   \n",
       "...                  ...  ...     ...        ...               ...   \n",
       "9846      Kimberly Rivas   85  Female         B-          Diabetes   \n",
       "9877    Michael Martinez   85    Male         A+            Cancer   \n",
       "9905          Paul Henry   85  Female         B+          Diabetes   \n",
       "9910     Heather Stewart   85  Female         B+         Arthritis   \n",
       "9917      Justin Morales   85    Male         O-      Hypertension   \n",
       "\n",
       "     Date of Admission               Doctor                     Hospital  \\\n",
       "12          2021-11-29        Laura Roberts   Malone, Thompson and Mejia   \n",
       "103         2020-12-28      Denise Richards                  Lopez-Mason   \n",
       "139         2023-08-19       Zachary Potter                   Ross-Kelly   \n",
       "168         2023-05-24       Joseph Navarro  Singleton, Cross and Jordan   \n",
       "543         2019-10-22        Randy Carlson   Whitaker, Silva and Thomas   \n",
       "...                ...                  ...                          ...   \n",
       "9846        2019-06-20  Benjamin Fitzgerald               Porter-Johnson   \n",
       "9877        2020-05-11         Monica Clark                 Martinez LLC   \n",
       "9905        2018-12-04      Christine Miles   Williams, Allen and Walker   \n",
       "9910        2018-11-10           Blake Lara                    White LLC   \n",
       "9917        2019-07-13        Richard Horne            Ramirez-Rodriguez   \n",
       "\n",
       "     Insurance Provider  Billing Amount  Room Number Admission Type  \\\n",
       "12                Aetna     4835.945650          444       Elective   \n",
       "103    UnitedHealthcare    23517.461852          389         Urgent   \n",
       "139            Medicare    10591.269644          115      Emergency   \n",
       "168    UnitedHealthcare    21470.417738          264       Elective   \n",
       "543    UnitedHealthcare    26730.533031          475       Elective   \n",
       "...                 ...             ...          ...            ...   \n",
       "9846   UnitedHealthcare    38745.175874          275      Emergency   \n",
       "9877         Blue Cross     4780.693192          382       Elective   \n",
       "9905         Blue Cross    28095.844317          251         Urgent   \n",
       "9910   UnitedHealthcare    36241.466526          495         Urgent   \n",
       "9917           Medicare    33120.346690          219      Emergency   \n",
       "\n",
       "     Discharge Date   Medication  Test Results  Days at Hospital  \n",
       "12       2021-12-14      Aspirin  Inconclusive                15  \n",
       "103      2021-01-14  Paracetamol        Normal                17  \n",
       "139      2023-08-27   Penicillin  Inconclusive                 8  \n",
       "168      2023-05-27      Aspirin  Inconclusive                 3  \n",
       "543      2019-11-14      Lipitor        Normal                23  \n",
       "...             ...          ...           ...               ...  \n",
       "9846     2019-06-22      Lipitor      Abnormal                 2  \n",
       "9877     2020-05-25   Penicillin        Normal                14  \n",
       "9905     2018-12-18  Paracetamol  Inconclusive                14  \n",
       "9910     2018-11-22      Lipitor        Normal                12  \n",
       "9917     2019-08-11   Penicillin      Abnormal                29  \n",
       "\n",
       "[123 rows x 16 columns]"
      ]
     },
     "execution_count": 39,
     "metadata": {},
     "output_type": "execute_result"
    }
   ],
   "source": [
    "df.query('Age==85')"
   ]
  },
  {
   "cell_type": "code",
   "execution_count": 42,
   "id": "bcc49aa4",
   "metadata": {},
   "outputs": [],
   "source": [
    "from scipy.stats import ttest_1samp\n",
    "\n",
    "import numpy as np"
   ]
  },
  {
   "cell_type": "code",
   "execution_count": 43,
   "id": "3813a29e",
   "metadata": {},
   "outputs": [
    {
     "data": {
      "text/plain": [
       "51.4522"
      ]
     },
     "execution_count": 43,
     "metadata": {},
     "output_type": "execute_result"
    }
   ],
   "source": [
    "df['Age'].mean()"
   ]
  },
  {
   "cell_type": "code",
   "execution_count": 45,
   "id": "26b6f5ba",
   "metadata": {},
   "outputs": [
    {
     "data": {
      "text/plain": [
       "(0.0, 1.0)"
      ]
     },
     "execution_count": 45,
     "metadata": {},
     "output_type": "execute_result"
    }
   ],
   "source": [
    "ttest,p_value=ttest_1samp(df['Age'],51.4522)\n",
    "ttest, p_value"
   ]
  },
  {
   "cell_type": "code",
   "execution_count": 38,
   "id": "0926460c",
   "metadata": {},
   "outputs": [],
   "source": []
  },
  {
   "cell_type": "code",
   "execution_count": 40,
   "id": "7e4487e0",
   "metadata": {},
   "outputs": [
    {
     "data": {
      "text/plain": [
       "Gender                   2\n",
       "Blood Type               8\n",
       "Medical Condition        6\n",
       "Doctor                9416\n",
       "Hospital              8639\n",
       "Insurance Provider       5\n",
       "Admission Type           3\n",
       "Test Results             3\n",
       "dtype: int64"
      ]
     },
     "execution_count": 40,
     "metadata": {},
     "output_type": "execute_result"
    }
   ],
   "source": [
    "df_sub.nunique()"
   ]
  },
  {
   "cell_type": "code",
   "execution_count": 49,
   "id": "48bff151",
   "metadata": {},
   "outputs": [],
   "source": []
  },
  {
   "cell_type": "code",
   "execution_count": null,
   "id": "fc8f92b4",
   "metadata": {},
   "outputs": [],
   "source": []
  },
  {
   "cell_type": "code",
   "execution_count": 50,
   "id": "3b9718a0",
   "metadata": {},
   "outputs": [
    {
     "data": {
      "text/plain": [
       "1.0"
      ]
     },
     "execution_count": 50,
     "metadata": {},
     "output_type": "execute_result"
    }
   ],
   "source": []
  },
  {
   "cell_type": "code",
   "execution_count": 51,
   "id": "66946f9f",
   "metadata": {},
   "outputs": [],
   "source": [
    "size=1000\n",
    "age_sample=np.random.choice(df['Age'],size)"
   ]
  },
  {
   "cell_type": "code",
   "execution_count": null,
   "id": "d7b64bf6",
   "metadata": {},
   "outputs": [],
   "source": []
  },
  {
   "cell_type": "code",
   "execution_count": 56,
   "id": "98f09f63",
   "metadata": {},
   "outputs": [],
   "source": [
    "ttest,p_value=ttest_1samp(age_sample,51.4522)"
   ]
  },
  {
   "cell_type": "code",
   "execution_count": 57,
   "id": "3af5404f",
   "metadata": {},
   "outputs": [
    {
     "data": {
      "text/plain": [
       "0.8109403444079711"
      ]
     },
     "execution_count": 57,
     "metadata": {},
     "output_type": "execute_result"
    }
   ],
   "source": [
    "p_value"
   ]
  },
  {
   "cell_type": "code",
   "execution_count": 59,
   "id": "5c52a55b",
   "metadata": {},
   "outputs": [
    {
     "name": "stdout",
     "output_type": "stream",
     "text": [
      "Null Hypothesis is accepted\n"
     ]
    }
   ],
   "source": [
    "if p_value<.05:\n",
    "    print (\"Null Hypothesis is rejected\")\n",
    "else:\n",
    "   print(\"Null Hypothesis is accepted\")\n",
    "    \n",
    "p_value=0.8"
   ]
  },
  {
   "cell_type": "code",
   "execution_count": 60,
   "id": "75385bbe",
   "metadata": {},
   "outputs": [
    {
     "data": {
      "text/plain": [
       "25516.806777738453"
      ]
     },
     "execution_count": 60,
     "metadata": {},
     "output_type": "execute_result"
    }
   ],
   "source": [
    "df['Billing Amount'].mean()"
   ]
  },
  {
   "cell_type": "code",
   "execution_count": 66,
   "id": "3fdbbe73",
   "metadata": {},
   "outputs": [],
   "source": [
    "sample=1000\n",
    "Billing_sample=np.random.choice(df['Billing Amount'],sample)\n",
    "ttest,p_value=ttest_1samp(Billing_sample,25516)"
   ]
  },
  {
   "cell_type": "code",
   "execution_count": 67,
   "id": "edfc7303",
   "metadata": {},
   "outputs": [
    {
     "data": {
      "text/plain": [
       "0.0300146403884564"
      ]
     },
     "execution_count": 67,
     "metadata": {},
     "output_type": "execute_result"
    }
   ],
   "source": [
    "p_value"
   ]
  },
  {
   "cell_type": "code",
   "execution_count": 69,
   "id": "1865f837",
   "metadata": {},
   "outputs": [
    {
     "name": "stdout",
     "output_type": "stream",
     "text": [
      "Hypothesis is rejected\n"
     ]
    }
   ],
   "source": [
    "if p_value<0.05:\n",
    "    print (\"Hypothesis is rejected\")\n",
    "else:\n",
    "           print(\"Hypothesis is accepted\")\n",
    "           \n",
    "p_value=0.03"
   ]
  },
  {
   "cell_type": "code",
   "execution_count": 8,
   "id": "5455e2b2",
   "metadata": {},
   "outputs": [
    {
     "data": {
      "text/html": [
       "<div>\n",
       "<style scoped>\n",
       "    .dataframe tbody tr th:only-of-type {\n",
       "        vertical-align: middle;\n",
       "    }\n",
       "\n",
       "    .dataframe tbody tr th {\n",
       "        vertical-align: top;\n",
       "    }\n",
       "\n",
       "    .dataframe thead th {\n",
       "        text-align: right;\n",
       "    }\n",
       "</style>\n",
       "<table border=\"1\" class=\"dataframe\">\n",
       "  <thead>\n",
       "    <tr style=\"text-align: right;\">\n",
       "      <th></th>\n",
       "      <th>Age</th>\n",
       "      <th>Billing Amount</th>\n",
       "      <th>Room Number</th>\n",
       "    </tr>\n",
       "  </thead>\n",
       "  <tbody>\n",
       "    <tr>\n",
       "      <th>count</th>\n",
       "      <td>10000.000000</td>\n",
       "      <td>10000.000000</td>\n",
       "      <td>10000.000000</td>\n",
       "    </tr>\n",
       "    <tr>\n",
       "      <th>mean</th>\n",
       "      <td>51.452200</td>\n",
       "      <td>25516.806778</td>\n",
       "      <td>300.082000</td>\n",
       "    </tr>\n",
       "    <tr>\n",
       "      <th>std</th>\n",
       "      <td>19.588974</td>\n",
       "      <td>14067.292709</td>\n",
       "      <td>115.806027</td>\n",
       "    </tr>\n",
       "    <tr>\n",
       "      <th>min</th>\n",
       "      <td>18.000000</td>\n",
       "      <td>1000.180837</td>\n",
       "      <td>101.000000</td>\n",
       "    </tr>\n",
       "    <tr>\n",
       "      <th>25%</th>\n",
       "      <td>35.000000</td>\n",
       "      <td>13506.523967</td>\n",
       "      <td>199.000000</td>\n",
       "    </tr>\n",
       "    <tr>\n",
       "      <th>50%</th>\n",
       "      <td>52.000000</td>\n",
       "      <td>25258.112566</td>\n",
       "      <td>299.000000</td>\n",
       "    </tr>\n",
       "    <tr>\n",
       "      <th>75%</th>\n",
       "      <td>68.000000</td>\n",
       "      <td>37733.913727</td>\n",
       "      <td>400.000000</td>\n",
       "    </tr>\n",
       "    <tr>\n",
       "      <th>max</th>\n",
       "      <td>85.000000</td>\n",
       "      <td>49995.902283</td>\n",
       "      <td>500.000000</td>\n",
       "    </tr>\n",
       "  </tbody>\n",
       "</table>\n",
       "</div>"
      ],
      "text/plain": [
       "                Age  Billing Amount   Room Number\n",
       "count  10000.000000    10000.000000  10000.000000\n",
       "mean      51.452200    25516.806778    300.082000\n",
       "std       19.588974    14067.292709    115.806027\n",
       "min       18.000000     1000.180837    101.000000\n",
       "25%       35.000000    13506.523967    199.000000\n",
       "50%       52.000000    25258.112566    299.000000\n",
       "75%       68.000000    37733.913727    400.000000\n",
       "max       85.000000    49995.902283    500.000000"
      ]
     },
     "execution_count": 8,
     "metadata": {},
     "output_type": "execute_result"
    }
   ],
   "source": [
    "df.describe()"
   ]
  },
  {
   "cell_type": "code",
   "execution_count": 4,
   "id": "9385a54d",
   "metadata": {},
   "outputs": [
    {
     "data": {
      "text/html": [
       "<div>\n",
       "<style scoped>\n",
       "    .dataframe tbody tr th:only-of-type {\n",
       "        vertical-align: middle;\n",
       "    }\n",
       "\n",
       "    .dataframe tbody tr th {\n",
       "        vertical-align: top;\n",
       "    }\n",
       "\n",
       "    .dataframe thead th {\n",
       "        text-align: right;\n",
       "    }\n",
       "</style>\n",
       "<table border=\"1\" class=\"dataframe\">\n",
       "  <thead>\n",
       "    <tr style=\"text-align: right;\">\n",
       "      <th>Medical Condition</th>\n",
       "      <th>Arthritis</th>\n",
       "      <th>Asthma</th>\n",
       "      <th>Cancer</th>\n",
       "      <th>Diabetes</th>\n",
       "      <th>Hypertension</th>\n",
       "      <th>Obesity</th>\n",
       "    </tr>\n",
       "    <tr>\n",
       "      <th>Gender</th>\n",
       "      <th></th>\n",
       "      <th></th>\n",
       "      <th></th>\n",
       "      <th></th>\n",
       "      <th></th>\n",
       "      <th></th>\n",
       "    </tr>\n",
       "  </thead>\n",
       "  <tbody>\n",
       "    <tr>\n",
       "      <th>Female</th>\n",
       "      <td>815</td>\n",
       "      <td>874</td>\n",
       "      <td>887</td>\n",
       "      <td>825</td>\n",
       "      <td>836</td>\n",
       "      <td>838</td>\n",
       "    </tr>\n",
       "    <tr>\n",
       "      <th>Male</th>\n",
       "      <td>835</td>\n",
       "      <td>834</td>\n",
       "      <td>816</td>\n",
       "      <td>798</td>\n",
       "      <td>852</td>\n",
       "      <td>790</td>\n",
       "    </tr>\n",
       "  </tbody>\n",
       "</table>\n",
       "</div>"
      ],
      "text/plain": [
       "Medical Condition  Arthritis  Asthma  Cancer  Diabetes  Hypertension  Obesity\n",
       "Gender                                                                       \n",
       "Female                   815     874     887       825           836      838\n",
       "Male                     835     834     816       798           852      790"
      ]
     },
     "execution_count": 4,
     "metadata": {},
     "output_type": "execute_result"
    }
   ],
   "source": [
    "Observed=pd.crosstab(df['Gender'],df['Medical Condition'])\n",
    "Observed"
   ]
  },
  {
   "cell_type": "code",
   "execution_count": 5,
   "id": "7495b56c",
   "metadata": {},
   "outputs": [
    {
     "data": {
      "text/plain": [
       "array([[815, 874, 887, 825, 836, 838],\n",
       "       [835, 834, 816, 798, 852, 790]], dtype=int64)"
      ]
     },
     "execution_count": 5,
     "metadata": {},
     "output_type": "execute_result"
    }
   ],
   "source": [
    "Observed.values"
   ]
  },
  {
   "cell_type": "code",
   "execution_count": 6,
   "id": "3e5cf28b",
   "metadata": {},
   "outputs": [],
   "source": [
    "from scipy.stats import chi2\n",
    "val=stats.chi2_contingency(Observed.values)"
   ]
  },
  {
   "cell_type": "code",
   "execution_count": 7,
   "id": "a8565df6",
   "metadata": {},
   "outputs": [
    {
     "data": {
      "text/plain": [
       "(3.906202141706238,\n",
       " 0.562998167918918,\n",
       " 5,\n",
       " array([[837.375 , 866.81  , 864.2725, 823.6725, 856.66  , 826.21  ],\n",
       "        [812.625 , 841.19  , 838.7275, 799.3275, 831.34  , 801.79  ]]))"
      ]
     },
     "execution_count": 7,
     "metadata": {},
     "output_type": "execute_result"
    }
   ],
   "source": [
    "val"
   ]
  },
  {
   "cell_type": "code",
   "execution_count": 20,
   "id": "6fcb5043",
   "metadata": {},
   "outputs": [
    {
     "data": {
      "text/html": [
       "<div>\n",
       "<style scoped>\n",
       "    .dataframe tbody tr th:only-of-type {\n",
       "        vertical-align: middle;\n",
       "    }\n",
       "\n",
       "    .dataframe tbody tr th {\n",
       "        vertical-align: top;\n",
       "    }\n",
       "\n",
       "    .dataframe thead th {\n",
       "        text-align: right;\n",
       "    }\n",
       "</style>\n",
       "<table border=\"1\" class=\"dataframe\">\n",
       "  <thead>\n",
       "    <tr style=\"text-align: right;\">\n",
       "      <th>Test Results</th>\n",
       "      <th>Abnormal</th>\n",
       "      <th>Inconclusive</th>\n",
       "      <th>Normal</th>\n",
       "    </tr>\n",
       "    <tr>\n",
       "      <th>Medical Condition</th>\n",
       "      <th></th>\n",
       "      <th></th>\n",
       "      <th></th>\n",
       "    </tr>\n",
       "  </thead>\n",
       "  <tbody>\n",
       "    <tr>\n",
       "      <th>Arthritis</th>\n",
       "      <td>555</td>\n",
       "      <td>553</td>\n",
       "      <td>542</td>\n",
       "    </tr>\n",
       "    <tr>\n",
       "      <th>Asthma</th>\n",
       "      <td>623</td>\n",
       "      <td>551</td>\n",
       "      <td>534</td>\n",
       "    </tr>\n",
       "    <tr>\n",
       "      <th>Cancer</th>\n",
       "      <td>577</td>\n",
       "      <td>556</td>\n",
       "      <td>570</td>\n",
       "    </tr>\n",
       "    <tr>\n",
       "      <th>Diabetes</th>\n",
       "      <td>537</td>\n",
       "      <td>542</td>\n",
       "      <td>544</td>\n",
       "    </tr>\n",
       "    <tr>\n",
       "      <th>Hypertension</th>\n",
       "      <td>602</td>\n",
       "      <td>554</td>\n",
       "      <td>532</td>\n",
       "    </tr>\n",
       "    <tr>\n",
       "      <th>Obesity</th>\n",
       "      <td>562</td>\n",
       "      <td>521</td>\n",
       "      <td>545</td>\n",
       "    </tr>\n",
       "  </tbody>\n",
       "</table>\n",
       "</div>"
      ],
      "text/plain": [
       "Test Results       Abnormal  Inconclusive  Normal\n",
       "Medical Condition                                \n",
       "Arthritis               555           553     542\n",
       "Asthma                  623           551     534\n",
       "Cancer                  577           556     570\n",
       "Diabetes                537           542     544\n",
       "Hypertension            602           554     532\n",
       "Obesity                 562           521     545"
      ]
     },
     "execution_count": 20,
     "metadata": {},
     "output_type": "execute_result"
    }
   ],
   "source": [
    "observes_hm=pd.crosstab(df['Medical Condition'],df['Test Results'])\n",
    "observes_hm"
   ]
  },
  {
   "cell_type": "code",
   "execution_count": 21,
   "id": "b65ecb7b",
   "metadata": {},
   "outputs": [],
   "source": [
    "from scipy.stats import chi2\n",
    "val1=stats.chi2_contingency(observes_hm)"
   ]
  },
  {
   "cell_type": "code",
   "execution_count": 22,
   "id": "ebe5d6cb",
   "metadata": {},
   "outputs": [
    {
     "data": {
      "text/plain": [
       "(7.723822392194834,\n",
       " 0.6557931084771458,\n",
       " 10,\n",
       " array([[570.24  , 540.705 , 539.055 ],\n",
       "        [590.2848, 559.7116, 558.0036],\n",
       "        [588.5568, 558.0731, 556.3701],\n",
       "        [560.9088, 531.8571, 530.2341],\n",
       "        [583.3728, 553.1576, 551.4696],\n",
       "        [562.6368, 533.4956, 531.8676]]))"
      ]
     },
     "execution_count": 22,
     "metadata": {},
     "output_type": "execute_result"
    }
   ],
   "source": [
    "val1"
   ]
  },
  {
   "cell_type": "code",
   "execution_count": 24,
   "id": "40c53443",
   "metadata": {},
   "outputs": [],
   "source": [
    "critical_val=chi2.ppf(q=1-.05,df=10)"
   ]
  },
  {
   "cell_type": "code",
   "execution_count": 25,
   "id": "7f44d381",
   "metadata": {},
   "outputs": [
    {
     "data": {
      "text/plain": [
       "18.307038053275146"
      ]
     },
     "execution_count": 25,
     "metadata": {},
     "output_type": "execute_result"
    }
   ],
   "source": [
    "critical_val"
   ]
  },
  {
   "cell_type": "markdown",
   "id": "e9700f31",
   "metadata": {},
   "source": [
    "As the critical_val is greater than chisq statistical value, there is no relationship between the two parameters we reject the null hypothesis"
   ]
  }
 ],
 "metadata": {
  "kernelspec": {
   "display_name": "Python 3",
   "language": "python",
   "name": "python3"
  },
  "language_info": {
   "codemirror_mode": {
    "name": "ipython",
    "version": 3
   },
   "file_extension": ".py",
   "mimetype": "text/x-python",
   "name": "python",
   "nbconvert_exporter": "python",
   "pygments_lexer": "ipython3",
   "version": "3.8.8"
  }
 },
 "nbformat": 4,
 "nbformat_minor": 5
}
